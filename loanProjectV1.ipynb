{
 "cells": [
  {
   "cell_type": "markdown",
   "id": "8e587206-76d0-4bba-8eb3-fe773eba6985",
   "metadata": {},
   "source": [
    "## **Introduction**\n",
    "In the first version of the project, I like to do exploratory data analysis. This is where I analyze the data in detail to understand the independent variables and how they relate to one another. This version does not involve any modelling. It is mostly for exploratory data analysis. "
   ]
  },
  {
   "cell_type": "code",
   "execution_count": 64,
   "id": "cd3871db-a084-4cc4-a54c-4d3f8d1df7b7",
   "metadata": {
    "tags": []
   },
   "outputs": [],
   "source": [
    "# Import Libraries\n",
    "import numpy as np\n",
    "import pandas as pd\n",
    "import matplotlib.pyplot as plt\n",
    "import seaborn as sns\n",
    "from scipy.stats import chi2_contingency\n",
    "# pd.set_option('display.max_rows', None)  # Show all rows"
   ]
  },
  {
   "cell_type": "code",
   "execution_count": 25,
   "id": "a34d93de-2680-47f1-bee0-6e7402281e53",
   "metadata": {
    "tags": []
   },
   "outputs": [
    {
     "data": {
      "text/html": [
       "<div>\n",
       "<style scoped>\n",
       "    .dataframe tbody tr th:only-of-type {\n",
       "        vertical-align: middle;\n",
       "    }\n",
       "\n",
       "    .dataframe tbody tr th {\n",
       "        vertical-align: top;\n",
       "    }\n",
       "\n",
       "    .dataframe thead th {\n",
       "        text-align: right;\n",
       "    }\n",
       "</style>\n",
       "<table border=\"1\" class=\"dataframe\">\n",
       "  <thead>\n",
       "    <tr style=\"text-align: right;\">\n",
       "      <th></th>\n",
       "      <th>Loan_ID</th>\n",
       "      <th>Gender</th>\n",
       "      <th>Married</th>\n",
       "      <th>Dependents</th>\n",
       "      <th>Education</th>\n",
       "      <th>Self_Employed</th>\n",
       "      <th>ApplicantIncome</th>\n",
       "      <th>CoapplicantIncome</th>\n",
       "      <th>LoanAmount</th>\n",
       "      <th>Loan_Amount_Term</th>\n",
       "      <th>Credit_History</th>\n",
       "      <th>Property_Area</th>\n",
       "      <th>Loan_Status</th>\n",
       "    </tr>\n",
       "  </thead>\n",
       "  <tbody>\n",
       "    <tr>\n",
       "      <th>0</th>\n",
       "      <td>LP001002</td>\n",
       "      <td>Male</td>\n",
       "      <td>No</td>\n",
       "      <td>0</td>\n",
       "      <td>Graduate</td>\n",
       "      <td>No</td>\n",
       "      <td>5849</td>\n",
       "      <td>0.0</td>\n",
       "      <td>NaN</td>\n",
       "      <td>360.0</td>\n",
       "      <td>1.0</td>\n",
       "      <td>Urban</td>\n",
       "      <td>Y</td>\n",
       "    </tr>\n",
       "    <tr>\n",
       "      <th>1</th>\n",
       "      <td>LP001003</td>\n",
       "      <td>Male</td>\n",
       "      <td>Yes</td>\n",
       "      <td>1</td>\n",
       "      <td>Graduate</td>\n",
       "      <td>No</td>\n",
       "      <td>4583</td>\n",
       "      <td>1508.0</td>\n",
       "      <td>128.0</td>\n",
       "      <td>360.0</td>\n",
       "      <td>1.0</td>\n",
       "      <td>Rural</td>\n",
       "      <td>N</td>\n",
       "    </tr>\n",
       "    <tr>\n",
       "      <th>2</th>\n",
       "      <td>LP001005</td>\n",
       "      <td>Male</td>\n",
       "      <td>Yes</td>\n",
       "      <td>0</td>\n",
       "      <td>Graduate</td>\n",
       "      <td>Yes</td>\n",
       "      <td>3000</td>\n",
       "      <td>0.0</td>\n",
       "      <td>66.0</td>\n",
       "      <td>360.0</td>\n",
       "      <td>1.0</td>\n",
       "      <td>Urban</td>\n",
       "      <td>Y</td>\n",
       "    </tr>\n",
       "    <tr>\n",
       "      <th>3</th>\n",
       "      <td>LP001006</td>\n",
       "      <td>Male</td>\n",
       "      <td>Yes</td>\n",
       "      <td>0</td>\n",
       "      <td>Not Graduate</td>\n",
       "      <td>No</td>\n",
       "      <td>2583</td>\n",
       "      <td>2358.0</td>\n",
       "      <td>120.0</td>\n",
       "      <td>360.0</td>\n",
       "      <td>1.0</td>\n",
       "      <td>Urban</td>\n",
       "      <td>Y</td>\n",
       "    </tr>\n",
       "    <tr>\n",
       "      <th>4</th>\n",
       "      <td>LP001008</td>\n",
       "      <td>Male</td>\n",
       "      <td>No</td>\n",
       "      <td>0</td>\n",
       "      <td>Graduate</td>\n",
       "      <td>No</td>\n",
       "      <td>6000</td>\n",
       "      <td>0.0</td>\n",
       "      <td>141.0</td>\n",
       "      <td>360.0</td>\n",
       "      <td>1.0</td>\n",
       "      <td>Urban</td>\n",
       "      <td>Y</td>\n",
       "    </tr>\n",
       "    <tr>\n",
       "      <th>...</th>\n",
       "      <td>...</td>\n",
       "      <td>...</td>\n",
       "      <td>...</td>\n",
       "      <td>...</td>\n",
       "      <td>...</td>\n",
       "      <td>...</td>\n",
       "      <td>...</td>\n",
       "      <td>...</td>\n",
       "      <td>...</td>\n",
       "      <td>...</td>\n",
       "      <td>...</td>\n",
       "      <td>...</td>\n",
       "      <td>...</td>\n",
       "    </tr>\n",
       "    <tr>\n",
       "      <th>609</th>\n",
       "      <td>LP002978</td>\n",
       "      <td>Female</td>\n",
       "      <td>No</td>\n",
       "      <td>0</td>\n",
       "      <td>Graduate</td>\n",
       "      <td>No</td>\n",
       "      <td>2900</td>\n",
       "      <td>0.0</td>\n",
       "      <td>71.0</td>\n",
       "      <td>360.0</td>\n",
       "      <td>1.0</td>\n",
       "      <td>Rural</td>\n",
       "      <td>Y</td>\n",
       "    </tr>\n",
       "    <tr>\n",
       "      <th>610</th>\n",
       "      <td>LP002979</td>\n",
       "      <td>Male</td>\n",
       "      <td>Yes</td>\n",
       "      <td>3+</td>\n",
       "      <td>Graduate</td>\n",
       "      <td>No</td>\n",
       "      <td>4106</td>\n",
       "      <td>0.0</td>\n",
       "      <td>40.0</td>\n",
       "      <td>180.0</td>\n",
       "      <td>1.0</td>\n",
       "      <td>Rural</td>\n",
       "      <td>Y</td>\n",
       "    </tr>\n",
       "    <tr>\n",
       "      <th>611</th>\n",
       "      <td>LP002983</td>\n",
       "      <td>Male</td>\n",
       "      <td>Yes</td>\n",
       "      <td>1</td>\n",
       "      <td>Graduate</td>\n",
       "      <td>No</td>\n",
       "      <td>8072</td>\n",
       "      <td>240.0</td>\n",
       "      <td>253.0</td>\n",
       "      <td>360.0</td>\n",
       "      <td>1.0</td>\n",
       "      <td>Urban</td>\n",
       "      <td>Y</td>\n",
       "    </tr>\n",
       "    <tr>\n",
       "      <th>612</th>\n",
       "      <td>LP002984</td>\n",
       "      <td>Male</td>\n",
       "      <td>Yes</td>\n",
       "      <td>2</td>\n",
       "      <td>Graduate</td>\n",
       "      <td>No</td>\n",
       "      <td>7583</td>\n",
       "      <td>0.0</td>\n",
       "      <td>187.0</td>\n",
       "      <td>360.0</td>\n",
       "      <td>1.0</td>\n",
       "      <td>Urban</td>\n",
       "      <td>Y</td>\n",
       "    </tr>\n",
       "    <tr>\n",
       "      <th>613</th>\n",
       "      <td>LP002990</td>\n",
       "      <td>Female</td>\n",
       "      <td>No</td>\n",
       "      <td>0</td>\n",
       "      <td>Graduate</td>\n",
       "      <td>Yes</td>\n",
       "      <td>4583</td>\n",
       "      <td>0.0</td>\n",
       "      <td>133.0</td>\n",
       "      <td>360.0</td>\n",
       "      <td>0.0</td>\n",
       "      <td>Semiurban</td>\n",
       "      <td>N</td>\n",
       "    </tr>\n",
       "  </tbody>\n",
       "</table>\n",
       "<p>614 rows × 13 columns</p>\n",
       "</div>"
      ],
      "text/plain": [
       "      Loan_ID  Gender Married Dependents     Education Self_Employed  \\\n",
       "0    LP001002    Male      No          0      Graduate            No   \n",
       "1    LP001003    Male     Yes          1      Graduate            No   \n",
       "2    LP001005    Male     Yes          0      Graduate           Yes   \n",
       "3    LP001006    Male     Yes          0  Not Graduate            No   \n",
       "4    LP001008    Male      No          0      Graduate            No   \n",
       "..        ...     ...     ...        ...           ...           ...   \n",
       "609  LP002978  Female      No          0      Graduate            No   \n",
       "610  LP002979    Male     Yes         3+      Graduate            No   \n",
       "611  LP002983    Male     Yes          1      Graduate            No   \n",
       "612  LP002984    Male     Yes          2      Graduate            No   \n",
       "613  LP002990  Female      No          0      Graduate           Yes   \n",
       "\n",
       "     ApplicantIncome  CoapplicantIncome  LoanAmount  Loan_Amount_Term  \\\n",
       "0               5849                0.0         NaN             360.0   \n",
       "1               4583             1508.0       128.0             360.0   \n",
       "2               3000                0.0        66.0             360.0   \n",
       "3               2583             2358.0       120.0             360.0   \n",
       "4               6000                0.0       141.0             360.0   \n",
       "..               ...                ...         ...               ...   \n",
       "609             2900                0.0        71.0             360.0   \n",
       "610             4106                0.0        40.0             180.0   \n",
       "611             8072              240.0       253.0             360.0   \n",
       "612             7583                0.0       187.0             360.0   \n",
       "613             4583                0.0       133.0             360.0   \n",
       "\n",
       "     Credit_History Property_Area Loan_Status  \n",
       "0               1.0         Urban           Y  \n",
       "1               1.0         Rural           N  \n",
       "2               1.0         Urban           Y  \n",
       "3               1.0         Urban           Y  \n",
       "4               1.0         Urban           Y  \n",
       "..              ...           ...         ...  \n",
       "609             1.0         Rural           Y  \n",
       "610             1.0         Rural           Y  \n",
       "611             1.0         Urban           Y  \n",
       "612             1.0         Urban           Y  \n",
       "613             0.0     Semiurban           N  \n",
       "\n",
       "[614 rows x 13 columns]"
      ]
     },
     "execution_count": 25,
     "metadata": {},
     "output_type": "execute_result"
    }
   ],
   "source": [
    "#Get the dataset\n",
    "dataset = pd.read_csv('loan.csv')\n",
    "dataset"
   ]
  },
  {
   "cell_type": "code",
   "execution_count": 26,
   "id": "948b3096-601d-4fef-be05-cad3f251c881",
   "metadata": {
    "tags": []
   },
   "outputs": [
    {
     "name": "stdout",
     "output_type": "stream",
     "text": [
      "<class 'pandas.core.frame.DataFrame'>\n",
      "RangeIndex: 614 entries, 0 to 613\n",
      "Data columns (total 13 columns):\n",
      " #   Column             Non-Null Count  Dtype  \n",
      "---  ------             --------------  -----  \n",
      " 0   Loan_ID            614 non-null    object \n",
      " 1   Gender             601 non-null    object \n",
      " 2   Married            611 non-null    object \n",
      " 3   Dependents         599 non-null    object \n",
      " 4   Education          614 non-null    object \n",
      " 5   Self_Employed      582 non-null    object \n",
      " 6   ApplicantIncome    614 non-null    int64  \n",
      " 7   CoapplicantIncome  614 non-null    float64\n",
      " 8   LoanAmount         592 non-null    float64\n",
      " 9   Loan_Amount_Term   600 non-null    float64\n",
      " 10  Credit_History     564 non-null    float64\n",
      " 11  Property_Area      614 non-null    object \n",
      " 12  Loan_Status        614 non-null    object \n",
      "dtypes: float64(4), int64(1), object(8)\n",
      "memory usage: 62.5+ KB\n"
     ]
    }
   ],
   "source": [
    "dataset.info()"
   ]
  },
  {
   "cell_type": "code",
   "execution_count": 27,
   "id": "fee32f63-5d75-4cd2-872c-465b690eb43c",
   "metadata": {
    "tags": []
   },
   "outputs": [
    {
     "data": {
      "text/html": [
       "<div>\n",
       "<style scoped>\n",
       "    .dataframe tbody tr th:only-of-type {\n",
       "        vertical-align: middle;\n",
       "    }\n",
       "\n",
       "    .dataframe tbody tr th {\n",
       "        vertical-align: top;\n",
       "    }\n",
       "\n",
       "    .dataframe thead th {\n",
       "        text-align: right;\n",
       "    }\n",
       "</style>\n",
       "<table border=\"1\" class=\"dataframe\">\n",
       "  <thead>\n",
       "    <tr style=\"text-align: right;\">\n",
       "      <th></th>\n",
       "      <th>ApplicantIncome</th>\n",
       "      <th>CoapplicantIncome</th>\n",
       "      <th>LoanAmount</th>\n",
       "      <th>Loan_Amount_Term</th>\n",
       "      <th>Credit_History</th>\n",
       "    </tr>\n",
       "  </thead>\n",
       "  <tbody>\n",
       "    <tr>\n",
       "      <th>count</th>\n",
       "      <td>614.000000</td>\n",
       "      <td>614.000000</td>\n",
       "      <td>592.000000</td>\n",
       "      <td>600.00000</td>\n",
       "      <td>564.000000</td>\n",
       "    </tr>\n",
       "    <tr>\n",
       "      <th>mean</th>\n",
       "      <td>5403.459283</td>\n",
       "      <td>1621.245798</td>\n",
       "      <td>146.412162</td>\n",
       "      <td>342.00000</td>\n",
       "      <td>0.842199</td>\n",
       "    </tr>\n",
       "    <tr>\n",
       "      <th>std</th>\n",
       "      <td>6109.041673</td>\n",
       "      <td>2926.248369</td>\n",
       "      <td>85.587325</td>\n",
       "      <td>65.12041</td>\n",
       "      <td>0.364878</td>\n",
       "    </tr>\n",
       "    <tr>\n",
       "      <th>min</th>\n",
       "      <td>150.000000</td>\n",
       "      <td>0.000000</td>\n",
       "      <td>9.000000</td>\n",
       "      <td>12.00000</td>\n",
       "      <td>0.000000</td>\n",
       "    </tr>\n",
       "    <tr>\n",
       "      <th>25%</th>\n",
       "      <td>2877.500000</td>\n",
       "      <td>0.000000</td>\n",
       "      <td>100.000000</td>\n",
       "      <td>360.00000</td>\n",
       "      <td>1.000000</td>\n",
       "    </tr>\n",
       "    <tr>\n",
       "      <th>50%</th>\n",
       "      <td>3812.500000</td>\n",
       "      <td>1188.500000</td>\n",
       "      <td>128.000000</td>\n",
       "      <td>360.00000</td>\n",
       "      <td>1.000000</td>\n",
       "    </tr>\n",
       "    <tr>\n",
       "      <th>75%</th>\n",
       "      <td>5795.000000</td>\n",
       "      <td>2297.250000</td>\n",
       "      <td>168.000000</td>\n",
       "      <td>360.00000</td>\n",
       "      <td>1.000000</td>\n",
       "    </tr>\n",
       "    <tr>\n",
       "      <th>max</th>\n",
       "      <td>81000.000000</td>\n",
       "      <td>41667.000000</td>\n",
       "      <td>700.000000</td>\n",
       "      <td>480.00000</td>\n",
       "      <td>1.000000</td>\n",
       "    </tr>\n",
       "  </tbody>\n",
       "</table>\n",
       "</div>"
      ],
      "text/plain": [
       "       ApplicantIncome  CoapplicantIncome  LoanAmount  Loan_Amount_Term  \\\n",
       "count       614.000000         614.000000  592.000000         600.00000   \n",
       "mean       5403.459283        1621.245798  146.412162         342.00000   \n",
       "std        6109.041673        2926.248369   85.587325          65.12041   \n",
       "min         150.000000           0.000000    9.000000          12.00000   \n",
       "25%        2877.500000           0.000000  100.000000         360.00000   \n",
       "50%        3812.500000        1188.500000  128.000000         360.00000   \n",
       "75%        5795.000000        2297.250000  168.000000         360.00000   \n",
       "max       81000.000000       41667.000000  700.000000         480.00000   \n",
       "\n",
       "       Credit_History  \n",
       "count      564.000000  \n",
       "mean         0.842199  \n",
       "std          0.364878  \n",
       "min          0.000000  \n",
       "25%          1.000000  \n",
       "50%          1.000000  \n",
       "75%          1.000000  \n",
       "max          1.000000  "
      ]
     },
     "execution_count": 27,
     "metadata": {},
     "output_type": "execute_result"
    }
   ],
   "source": [
    "dataset.describe()"
   ]
  },
  {
   "cell_type": "markdown",
   "id": "62ca9e16-9ee8-4105-a70c-093164616190",
   "metadata": {},
   "source": [
    "## Analysis\n",
    "There are columns that have missing values. The total values should be 614. \n",
    "Gender, Married, dependents, self-employed, LoanAmount, LoanAmountTerm, and Credit_History all feaure missing values. \n",
    "This is important information to have."
   ]
  },
  {
   "cell_type": "markdown",
   "id": "f4e1c62f-1bcd-4bd1-a2ac-f96cc3e8ae3c",
   "metadata": {},
   "source": [
    "## Way Forward\n",
    "From here, the way forward is to analyze each column and determine its impact on the loan status. The first column is the gender. Does this have an impact on the person's ability to pay a loan?"
   ]
  },
  {
   "cell_type": "code",
   "execution_count": 28,
   "id": "dbbd9faf-edb8-455f-8dd8-4ce6d7e74b69",
   "metadata": {
    "tags": []
   },
   "outputs": [
    {
     "name": "stdout",
     "output_type": "stream",
     "text": [
      "13\n"
     ]
    }
   ],
   "source": [
    "# Check missing values which can affect the analysis by skewing the data\n",
    "print(dataset['Gender'].isnull().sum())"
   ]
  },
  {
   "cell_type": "code",
   "execution_count": 29,
   "id": "107fecb9-ca63-44be-b563-b9ba4d678d20",
   "metadata": {
    "tags": []
   },
   "outputs": [],
   "source": [
    "# With the missing values and the data being categorical, I will use mode to fill in the missing data instead of dropping them.  \n",
    "# The missing data is also less than 20%\n",
    "dataset['Gender'] = dataset['Gender'].fillna(dataset['Gender'].mode()[0])"
   ]
  },
  {
   "cell_type": "code",
   "execution_count": 30,
   "id": "220bf3b9-5469-4190-bf26-6a6323273bb5",
   "metadata": {
    "tags": []
   },
   "outputs": [
    {
     "data": {
      "text/html": [
       "<div>\n",
       "<style scoped>\n",
       "    .dataframe tbody tr th:only-of-type {\n",
       "        vertical-align: middle;\n",
       "    }\n",
       "\n",
       "    .dataframe tbody tr th {\n",
       "        vertical-align: top;\n",
       "    }\n",
       "\n",
       "    .dataframe thead th {\n",
       "        text-align: right;\n",
       "    }\n",
       "</style>\n",
       "<table border=\"1\" class=\"dataframe\">\n",
       "  <thead>\n",
       "    <tr style=\"text-align: right;\">\n",
       "      <th>Loan_Status</th>\n",
       "      <th>N</th>\n",
       "      <th>Y</th>\n",
       "      <th>All</th>\n",
       "    </tr>\n",
       "    <tr>\n",
       "      <th>Gender</th>\n",
       "      <th></th>\n",
       "      <th></th>\n",
       "      <th></th>\n",
       "    </tr>\n",
       "  </thead>\n",
       "  <tbody>\n",
       "    <tr>\n",
       "      <th>Female</th>\n",
       "      <td>37</td>\n",
       "      <td>75</td>\n",
       "      <td>112</td>\n",
       "    </tr>\n",
       "    <tr>\n",
       "      <th>Male</th>\n",
       "      <td>155</td>\n",
       "      <td>347</td>\n",
       "      <td>502</td>\n",
       "    </tr>\n",
       "    <tr>\n",
       "      <th>All</th>\n",
       "      <td>192</td>\n",
       "      <td>422</td>\n",
       "      <td>614</td>\n",
       "    </tr>\n",
       "  </tbody>\n",
       "</table>\n",
       "</div>"
      ],
      "text/plain": [
       "Loan_Status    N    Y  All\n",
       "Gender                    \n",
       "Female        37   75  112\n",
       "Male         155  347  502\n",
       "All          192  422  614"
      ]
     },
     "execution_count": 30,
     "metadata": {},
     "output_type": "execute_result"
    }
   ],
   "source": [
    "pd.crosstab(dataset['Gender'], dataset['Loan_Status'], margins = True)"
   ]
  },
  {
   "cell_type": "code",
   "execution_count": 31,
   "id": "875a95c4-1a84-4957-9791-a20f2db26819",
   "metadata": {},
   "outputs": [
    {
     "name": "stdout",
     "output_type": "stream",
     "text": [
      "Gender\n",
      "Female    0.669643\n",
      "Male      0.691235\n",
      "Name: Loan_Status, dtype: float64\n"
     ]
    },
    {
     "data": {
      "image/png": "[encoded data removed]",
      "text/plain": [
       "<Figure size 800x600 with 1 Axes>"
      ]
     },
     "metadata": {},
     "output_type": "display_data"
    }
   ],
   "source": [
    "#Change the Loan_Status to numeric values\n",
    "dataset['Loan_Status'] = dataset['Loan_Status'].map({'Y': 1, 'N': 0})\n",
    "# Visual representation of how each gender pays their loans\n",
    "loan_approval_rate = dataset.groupby('Gender')['Loan_Status'].mean()\n",
    "print(loan_approval_rate)\n",
    "# Plotting with Matplotlib\n",
    "plt.figure(figsize=(8, 6))\n",
    "loan_approval_rate.plot(kind='bar', color=['#4CAF50'], alpha=0.7)\n",
    "plt.title('Loan Approval Rate by Gender')\n",
    "plt.xlabel('Gender')\n",
    "plt.ylabel('Loan Approval Rate')\n",
    "# Adjust x-axis labels\n",
    "plt.xticks(rotation=90, ha='right', fontsize=10)  # Rotate and align labels for better readability\n",
    "\n",
    "plt.show()"
   ]
  },
  {
   "cell_type": "markdown",
   "id": "97c38547-fb05-415f-a256-879895a29f81",
   "metadata": {},
   "source": [
    "## Analysis\n",
    "The loan approval rate is almost the same based on gender. There is really no difference. This means that gender is not a factor when it comes to loan approval. This means that this is not a variable to consider as the bank is gender neutral and does not consider gender when giving out loans. I also want to check using Chi-Square the p-value and whether it has any impact on the significance level. "
   ]
  },
  {
   "cell_type": "code",
   "execution_count": 32,
   "id": "c05df344-e5bd-4b45-a5dd-1ad857ea0d81",
   "metadata": {
    "tags": []
   },
   "outputs": [
    {
     "name": "stdout",
     "output_type": "stream",
     "text": [
      "Chi2 Statistic: 0.11087854691241235, P-value: 0.7391461310869638\n"
     ]
    }
   ],
   "source": [
    "# Create a contingency table\n",
    "contingency_table = pd.crosstab(dataset['Gender'], dataset['Loan_Status'])\n",
    "\n",
    "# Perform the chi-square test\n",
    "chi2, p_value, dof, expected = chi2_contingency(contingency_table)\n",
    "\n",
    "print(f\"Chi2 Statistic: {chi2}, P-value: {p_value}\")"
   ]
  },
  {
   "cell_type": "markdown",
   "id": "81f08552-3126-46c3-8297-28dbe7dec0e7",
   "metadata": {},
   "source": [
    "## Conclusion\n",
    "The p-value is significantly greater than the significance level (0.05). This means that the relationship between gender and loan approval is not statistically significant. "
   ]
  },
  {
   "cell_type": "markdown",
   "id": "5e138d38-377d-43a5-8b1c-d21aa87a43b3",
   "metadata": {},
   "source": [
    "# Married Column\n",
    "I want to now check what impact being married has on the person's ability to get a loan. "
   ]
  },
  {
   "cell_type": "code",
   "execution_count": 33,
   "id": "36fa1b82-53cb-4f61-9505-5828592f9090",
   "metadata": {
    "tags": []
   },
   "outputs": [
    {
     "name": "stdout",
     "output_type": "stream",
     "text": [
      "3\n"
     ]
    }
   ],
   "source": [
    "#First, we check if there are missing values that can make data analysis difficult\n",
    "print(dataset['Married'].isnull().sum())"
   ]
  },
  {
   "cell_type": "code",
   "execution_count": 34,
   "id": "78451498-2181-4715-a734-3d65efd30853",
   "metadata": {
    "tags": []
   },
   "outputs": [],
   "source": [
    "# I Use mode to fill the missing values as they are not many\n",
    "dataset['Married'] = dataset['Married'].fillna(dataset['Married'].mode()[0])"
   ]
  },
  {
   "cell_type": "code",
   "execution_count": 35,
   "id": "641eb9a6-e48c-48fd-9e67-9c3337e58498",
   "metadata": {
    "tags": []
   },
   "outputs": [
    {
     "data": {
      "text/html": [
       "<div>\n",
       "<style scoped>\n",
       "    .dataframe tbody tr th:only-of-type {\n",
       "        vertical-align: middle;\n",
       "    }\n",
       "\n",
       "    .dataframe tbody tr th {\n",
       "        vertical-align: top;\n",
       "    }\n",
       "\n",
       "    .dataframe thead th {\n",
       "        text-align: right;\n",
       "    }\n",
       "</style>\n",
       "<table border=\"1\" class=\"dataframe\">\n",
       "  <thead>\n",
       "    <tr style=\"text-align: right;\">\n",
       "      <th>Loan_Status</th>\n",
       "      <th>0</th>\n",
       "      <th>1</th>\n",
       "      <th>All</th>\n",
       "    </tr>\n",
       "    <tr>\n",
       "      <th>Married</th>\n",
       "      <th></th>\n",
       "      <th></th>\n",
       "      <th></th>\n",
       "    </tr>\n",
       "  </thead>\n",
       "  <tbody>\n",
       "    <tr>\n",
       "      <th>No</th>\n",
       "      <td>79</td>\n",
       "      <td>134</td>\n",
       "      <td>213</td>\n",
       "    </tr>\n",
       "    <tr>\n",
       "      <th>Yes</th>\n",
       "      <td>113</td>\n",
       "      <td>288</td>\n",
       "      <td>401</td>\n",
       "    </tr>\n",
       "    <tr>\n",
       "      <th>All</th>\n",
       "      <td>192</td>\n",
       "      <td>422</td>\n",
       "      <td>614</td>\n",
       "    </tr>\n",
       "  </tbody>\n",
       "</table>\n",
       "</div>"
      ],
      "text/plain": [
       "Loan_Status    0    1  All\n",
       "Married                   \n",
       "No            79  134  213\n",
       "Yes          113  288  401\n",
       "All          192  422  614"
      ]
     },
     "execution_count": 35,
     "metadata": {},
     "output_type": "execute_result"
    }
   ],
   "source": [
    "pd.crosstab(dataset['Married'], dataset['Loan_Status'], margins = True)"
   ]
  },
  {
   "cell_type": "code",
   "execution_count": 36,
   "id": "8708e145-c4fb-4fe7-9236-49bc29930515",
   "metadata": {
    "tags": []
   },
   "outputs": [
    {
     "name": "stdout",
     "output_type": "stream",
     "text": [
      "Married\n",
      "No     0.629108\n",
      "Yes    0.718204\n",
      "Name: Loan_Status, dtype: float64\n"
     ]
    },
    {
     "data": {
      "image/png": "[encoded data removed]",
      "text/plain": [
       "<Figure size 800x600 with 1 Axes>"
      ]
     },
     "metadata": {},
     "output_type": "display_data"
    }
   ],
   "source": [
    "#Change the Loan_Status to numeric values\n",
    "# Visual representation of how being married can impact loan approval\n",
    "loan_approval_rate = dataset.groupby('Married')['Loan_Status'].mean()\n",
    "print(loan_approval_rate)\n",
    "# Plotting with Matplotlib\n",
    "plt.figure(figsize=(8, 6))\n",
    "loan_approval_rate.plot(kind='bar', color=['#4CAF50'], alpha=0.7)\n",
    "plt.title('Loan Approval Rate by Marriage')\n",
    "plt.xlabel('Marriage status')\n",
    "plt.ylabel('Loan Approval Rate')\n",
    "# Adjust x-axis labels\n",
    "plt.xticks(rotation=90, ha='right', fontsize=10)  # Rotate and align labels for better readability\n",
    "\n",
    "plt.show()"
   ]
  },
  {
   "cell_type": "markdown",
   "id": "1670a9f0-669e-47de-9534-dae2fc3a5b55",
   "metadata": {},
   "source": [
    "## Analysis\n",
    "The difference between those that a married and those that are not for getting loans is around 8.9%, with being married proving to be an advantage in getting loan approval. However, I feel this is not enough to determine relation. I want to check for statistical significance using Chi-Square and p-value to understand the relation. "
   ]
  },
  {
   "cell_type": "code",
   "execution_count": 39,
   "id": "5f7aa6f5-47f7-41b0-8d37-6ff3708e26bd",
   "metadata": {
    "tags": []
   },
   "outputs": [
    {
     "name": "stdout",
     "output_type": "stream",
     "text": [
      "Chi2 Statistic: 4.73187557933362, P-value: 0.029608580862582116\n"
     ]
    }
   ],
   "source": [
    "# Create a contingency table\n",
    "contingency_table = pd.crosstab(dataset['Married'], dataset['Loan_Status'])\n",
    "\n",
    "# Perform the chi-square test\n",
    "chi2, p_value, dof, expected = chi2_contingency(contingency_table)\n",
    "\n",
    "print(f\"Chi2 Statistic: {chi2}, P-value: {p_value}\")"
   ]
  },
  {
   "cell_type": "markdown",
   "id": "b2243a31-509d-41cc-83af-b1a2d318e95b",
   "metadata": {},
   "source": [
    "## Conclusion on Married\n",
    "The p-value is less than the significant level. \n",
    "This suggests that the relationship between being married and loan approval is significant. This means that it might be a factor when giving loans. However, there is one more thing I would like to check. I would like to check how it correlates with other variables. \n",
    "This is something I will do once I have thinned down the variables I intend on using. "
   ]
  },
  {
   "cell_type": "markdown",
   "id": "f8a35ea7-16cd-4073-b937-18238fe4b826",
   "metadata": {},
   "source": [
    "# Dependents Column\n",
    "For the dependents column, I want to try and get two new relations to see which one is significant. \n",
    "I noticed when reviewing the dataset that aside from having missing values, the data features only four values: 0, 1, 2, 3+. \n",
    "With this, I can create two different columns. \n",
    "The first will be the has_dependents variable, which will check for the presence of dependents. \n",
    "The second will be the has many dependents, which will feature the people with 3 or more dependents. \n",
    "This will better allow me to analyze the relations between both and understand their significance. "
   ]
  },
  {
   "cell_type": "code",
   "execution_count": 44,
   "id": "04f268ed-a722-401d-9e78-1cf2d738b6be",
   "metadata": {
    "tags": []
   },
   "outputs": [
    {
     "name": "stdout",
     "output_type": "stream",
     "text": [
      "0\n"
     ]
    }
   ],
   "source": [
    "print(dataset['Gender'].isnull().sum())"
   ]
  },
  {
   "cell_type": "code",
   "execution_count": 45,
   "id": "9e38ac31-0935-4bc5-b165-1df1589a321d",
   "metadata": {
    "tags": []
   },
   "outputs": [],
   "source": [
    "#Fill Missing Values\n",
    "# Because it is still categorical values, I will be using mode still. \n",
    "dataset['Dependents'] = dataset['Dependents'].fillna(dataset['Dependents'].mode()[0])"
   ]
  },
  {
   "cell_type": "code",
   "execution_count": 66,
   "id": "151506f2-2727-4331-85bc-8700a3c174a4",
   "metadata": {
    "tags": []
   },
   "outputs": [],
   "source": [
    "# Creating the Has Dependents Column\n",
    "has_dependents = []\n",
    "value = 0\n",
    "for data in dataset['Dependents']:\n",
    "    if data == \"3+\":\n",
    "        value = 1\n",
    "    elif int(data)>0:\n",
    "        value = 1\n",
    "    else:\n",
    "        value = 0\n",
    "    has_dependents.append(value)\n",
    "    \n",
    "dataset['Has_Dependents'] = has_dependents\n"
   ]
  },
  {
   "cell_type": "code",
   "execution_count": 67,
   "id": "3faf0735-7eea-4fba-8b84-3e557fbb29a7",
   "metadata": {
    "tags": []
   },
   "outputs": [],
   "source": [
    "# Creating the Many Dependents Column\n",
    "many_dependents = []\n",
    "value = 0\n",
    "for data in dataset['Dependents']:\n",
    "    if data == \"3+\":\n",
    "        value = 1\n",
    "    else:\n",
    "        value = 0\n",
    "    many_dependents.append(value)\n",
    "    \n",
    "dataset['many_Dependents'] = many_dependents\n"
   ]
  },
  {
   "cell_type": "markdown",
   "id": "11d29cf1-319b-4f2f-9e86-795f92d20e7d",
   "metadata": {},
   "source": [
    "# Followup\n",
    "With both of these colums, I can advance to check whether either of them affects someone's ability to get a loan. "
   ]
  },
  {
   "cell_type": "code",
   "execution_count": 57,
   "id": "c3421c7c-8ff6-4a44-b5af-4d7a01f5daa7",
   "metadata": {
    "tags": []
   },
   "outputs": [
    {
     "name": "stdout",
     "output_type": "stream",
     "text": [
      "Has_Dependents\n",
      "0    0.686111\n",
      "1    0.688976\n",
      "Name: Loan_Status, dtype: float64\n"
     ]
    },
    {
     "data": {
      "image/png": "[encoded data removed]",
      "text/plain": [
       "<Figure size 800x600 with 1 Axes>"
      ]
     },
     "metadata": {},
     "output_type": "display_data"
    }
   ],
   "source": [
    "#Change the Loan_Status to numeric values\n",
    "# Visual representation of how being married can impact loan approval\n",
    "loan_approval_rate = dataset.groupby('Has_Dependents')['Loan_Status'].mean()\n",
    "print(loan_approval_rate)\n",
    "# Plotting with Matplotlib\n",
    "plt.figure(figsize=(8, 6))\n",
    "loan_approval_rate.plot(kind='bar', color=['#4CAF50'], alpha=0.7)\n",
    "plt.title('Loan Approval Rate by Dependents')\n",
    "plt.xlabel('Dependents status')\n",
    "plt.ylabel('Loan Approval Rate')\n",
    "# Adjust x-axis labels\n",
    "plt.xticks(rotation=90, ha='right', fontsize=10)  # Rotate and align labels for better readability\n",
    "\n",
    "plt.show()"
   ]
  },
  {
   "cell_type": "markdown",
   "id": "d6fc7a43-7221-4dd9-a524-36c222a52b83",
   "metadata": {},
   "source": [
    "# Analysis\n",
    "From this, it seems as though there is little difference between having a dependent and getting a loan. \n",
    "The next step is to check the p-value to determine whether it is less than the significance level. "
   ]
  },
  {
   "cell_type": "code",
   "execution_count": 58,
   "id": "1dbaba51-1e6b-42f0-9dd1-7e305d4923d0",
   "metadata": {
    "tags": []
   },
   "outputs": [
    {
     "name": "stdout",
     "output_type": "stream",
     "text": [
      "Chi2 Statistic: 0.0, P-value: 1.0\n"
     ]
    }
   ],
   "source": [
    "# Create a contingency table\n",
    "contingency_table = pd.crosstab(dataset['Has_Dependents'], dataset['Loan_Status'])\n",
    "\n",
    "# Perform the chi-square test\n",
    "chi2, p_value, dof, expected = chi2_contingency(contingency_table)\n",
    "\n",
    "print(f\"Chi2 Statistic: {chi2}, P-value: {p_value}\")"
   ]
  },
  {
   "cell_type": "markdown",
   "id": "89889f29-dc92-40e8-b0a0-b0e0b7170ef8",
   "metadata": {},
   "source": [
    "# Analysis\n",
    "The high p_value can mean one of two things. \n",
    "1. The data is corrupted.\n",
    "2. There is absolutely no relationship between the two variables. \n",
    "\n",
    "In this case, I would argue for the latter. This is because I reviewed the data row by row and I saw several differences. This means that there is absolutely no relationship between the fact that the person has dependents to them getting a loan. However, it would be interesting to determine whether the number of dependents has an impact, particularly if they are more than three. "
   ]
  },
  {
   "cell_type": "code",
   "execution_count": 69,
   "id": "1f56e853-2b8d-4062-9a1a-0303cdc40e2c",
   "metadata": {
    "tags": []
   },
   "outputs": [
    {
     "name": "stdout",
     "output_type": "stream",
     "text": [
      "many_Dependents\n",
      "0    0.690941\n",
      "1    0.647059\n",
      "Name: Loan_Status, dtype: float64\n"
     ]
    },
    {
     "data": {
      "image/png": "[encoded data removed]",
      "text/plain": [
       "<Figure size 800x600 with 1 Axes>"
      ]
     },
     "metadata": {},
     "output_type": "display_data"
    }
   ],
   "source": [
    "# Checking if many dependents affects the data\n",
    "#Change the Loan_Status to numeric values\n",
    "\n",
    "loan_approval_rate = dataset.groupby('many_Dependents')['Loan_Status'].mean()\n",
    "print(loan_approval_rate)\n",
    "# Plotting with Matplotlib\n",
    "plt.figure(figsize=(8, 6))\n",
    "loan_approval_rate.plot(kind='bar', color=['#4CAF50'], alpha=0.7)\n",
    "plt.title('Loan Approval Rate by Number of Dependents')\n",
    "plt.xlabel('Dependents')\n",
    "plt.ylabel('Loan Approval Rate')\n",
    "# Adjust x-axis labels\n",
    "plt.xticks(rotation=90, ha='right', fontsize=10)  # Rotate and align labels for better readability\n",
    "\n",
    "plt.show()"
   ]
  },
  {
   "cell_type": "code",
   "execution_count": 70,
   "id": "392c7c7d-05c9-44b6-8044-5717bb6d1072",
   "metadata": {
    "tags": []
   },
   "outputs": [
    {
     "name": "stdout",
     "output_type": "stream",
     "text": [
      "Chi2 Statistic: 0.23969662650260687, P-value: 0.624425312972677\n"
     ]
    }
   ],
   "source": [
    "# Create a contingency table\n",
    "contingency_table = pd.crosstab(dataset['many_Dependents'], dataset['Loan_Status'])\n",
    "\n",
    "# Perform the chi-square test\n",
    "chi2, p_value, dof, expected = chi2_contingency(contingency_table)\n",
    "\n",
    "print(f\"Chi2 Statistic: {chi2}, P-value: {p_value}\")"
   ]
  },
  {
   "cell_type": "markdown",
   "id": "e3a3a26d-6b51-4ef5-b978-5d2477d1d538",
   "metadata": {},
   "source": [
    "## Analysis\n",
    "While at first it looked as though having dependents had an impact, upon analysis, it is proven that having dependents is not checked when giving loans. "
   ]
  }
 ],
 "metadata": {
  "kernelspec": {
   "display_name": "Python 3 (ipykernel)",
   "language": "python",
   "name": "python3"
  },
  "language_info": {
   "codemirror_mode": {
    "name": "ipython",
    "version": 3
   },
   "file_extension": ".py",
   "mimetype": "text/x-python",
   "name": "python",
   "nbconvert_exporter": "python",
   "pygments_lexer": "ipython3",
   "version": "3.11.5"
  }
 },
 "nbformat": 4,
 "nbformat_minor": 5
}
